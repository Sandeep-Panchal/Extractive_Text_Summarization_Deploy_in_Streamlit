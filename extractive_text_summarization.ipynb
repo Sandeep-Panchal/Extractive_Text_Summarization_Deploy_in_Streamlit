{
 "cells": [
  {
   "cell_type": "markdown",
   "metadata": {
    "id": "oXjV_uY6Kyjj"
   },
   "source": [
    "## References\n",
    "\n",
    "1.\tAbstractive Text Summarization: https://www.analyticsvidhya.com/blog/2019/06/comprehensive-guide-text-summarization-using-deep-learning-python/\n",
    "2.\tExtractive Text Summarization: https://www.analyticsvidhya.com/blog/2018/11/introduction-text-summarization-textrank-python/\n"
   ]
  },
  {
   "cell_type": "code",
   "execution_count": 1,
   "metadata": {
    "colab": {
     "base_uri": "https://localhost:8080/"
    },
    "executionInfo": {
     "elapsed": 28307,
     "status": "ok",
     "timestamp": 1635764654007,
     "user": {
      "displayName": "sandeep panchal",
      "photoUrl": "https://lh3.googleusercontent.com/a-/AOh14Gh7IOpMB5glav7I6AkOWH0-Wj6J4HZd3Y9iGvAkJA=s64",
      "userId": "16028125481769875260"
     },
     "user_tz": -330
    },
    "id": "5TCXppSNKyw6",
    "outputId": "480073cb-4913-49ef-f6c5-892757dd72d9"
   },
   "outputs": [
    {
     "name": "stdout",
     "output_type": "stream",
     "text": [
      "Mounted at /content/drive\n"
     ]
    }
   ],
   "source": [
    "from google.colab import drive\n",
    "drive.mount('/content/drive')"
   ]
  },
  {
   "cell_type": "code",
   "execution_count": 5,
   "metadata": {
    "colab": {
     "base_uri": "https://localhost:8080/"
    },
    "executionInfo": {
     "elapsed": 412,
     "status": "ok",
     "timestamp": 1635766296843,
     "user": {
      "displayName": "sandeep panchal",
      "photoUrl": "https://lh3.googleusercontent.com/a-/AOh14Gh7IOpMB5glav7I6AkOWH0-Wj6J4HZd3Y9iGvAkJA=s64",
      "userId": "16028125481769875260"
     },
     "user_tz": -330
    },
    "id": "ZtWB1q8GKztc",
    "outputId": "69b1c62a-0964-4bd4-f76e-9426bf3421eb"
   },
   "outputs": [
    {
     "name": "stderr",
     "output_type": "stream",
     "text": [
      "[nltk_data] Downloading package punkt to\n",
      "[nltk_data]     C:\\Users\\Sandeep\\AppData\\Roaming\\nltk_data...\n",
      "[nltk_data]   Package punkt is already up-to-date!\n",
      "[nltk_data] Downloading package stopwords to\n",
      "[nltk_data]     C:\\Users\\Sandeep\\AppData\\Roaming\\nltk_data...\n",
      "[nltk_data]   Package stopwords is already up-to-date!\n"
     ]
    }
   ],
   "source": [
    "import pandas as pd\n",
    "import numpy as np\n",
    "import copy\n",
    "import nltk\n",
    "from nltk.tokenize import sent_tokenize\n",
    "from nltk.corpus import stopwords\n",
    "from sklearn.metrics.pairwise import cosine_similarity\n",
    "import networkx as nx\n",
    "import tensorflow as tf\n",
    "import tensorflow_hub as hub\n",
    "nltk.download('punkt')\n",
    "nltk.download('stopwords')\n",
    "stop_words = stopwords.words('english')"
   ]
  },
  {
   "cell_type": "code",
   "execution_count": 6,
   "metadata": {
    "executionInfo": {
     "elapsed": 5697,
     "status": "ok",
     "timestamp": 1635773387772,
     "user": {
      "displayName": "sandeep panchal",
      "photoUrl": "https://lh3.googleusercontent.com/a-/AOh14Gh7IOpMB5glav7I6AkOWH0-Wj6J4HZd3Y9iGvAkJA=s64",
      "userId": "16028125481769875260"
     },
     "user_tz": -330
    },
    "id": "v4IDZvryREpU"
   },
   "outputs": [],
   "source": [
    "# loading the universal sentence encoder\n",
    "module_url = \"https://tfhub.dev/google/universal-sentence-encoder/4\"\n",
    "# module_url = \"https://tfhub.dev/google/universal-sentence-encoder-large/5\"\n",
    "model = hub.load(module_url)"
   ]
  },
  {
   "cell_type": "code",
   "execution_count": 8,
   "metadata": {
    "colab": {
     "base_uri": "https://localhost:8080/"
    },
    "executionInfo": {
     "elapsed": 1195,
     "status": "ok",
     "timestamp": 1635773311574,
     "user": {
      "displayName": "sandeep panchal",
      "photoUrl": "https://lh3.googleusercontent.com/a-/AOh14Gh7IOpMB5glav7I6AkOWH0-Wj6J4HZd3Y9iGvAkJA=s64",
      "userId": "16028125481769875260"
     },
     "user_tz": -330
    },
    "id": "NsV-k6j_LCBM",
    "outputId": "3ace759c-bd94-47cf-e87e-1a5987447245"
   },
   "outputs": [],
   "source": [
    "# df = pd.read_csv('/content/drive/MyDrive/Text Summarization/tennis_articles.csv', encoding='latin')\n",
    "# df.shape"
   ]
  },
  {
   "cell_type": "code",
   "execution_count": null,
   "metadata": {
    "colab": {
     "base_uri": "https://localhost:8080/",
     "height": 80
    },
    "executionInfo": {
     "elapsed": 11,
     "status": "ok",
     "timestamp": 1635773311576,
     "user": {
      "displayName": "sandeep panchal",
      "photoUrl": "https://lh3.googleusercontent.com/a-/AOh14Gh7IOpMB5glav7I6AkOWH0-Wj6J4HZd3Y9iGvAkJA=s64",
      "userId": "16028125481769875260"
     },
     "user_tz": -330
    },
    "id": "BJ2KytKqga9t",
    "outputId": "fa84dda9-ba29-432b-b3cb-434a21c639b9"
   },
   "outputs": [],
   "source": [
    "df.head(1)"
   ]
  },
  {
   "cell_type": "markdown",
   "metadata": {
    "id": "kRsClmZaLIKp"
   },
   "source": [
    "## Data Preparation:\n",
    "        - Tokenize the entire document/documents by sentence.\n",
    "        - Flatten the tokenized sentences ie [['i am good'], ['i am going out']] becomes ['i amd good', 'i am going out']\n",
    "        - If necessary, do data cleaning such as removal of punctuations, change to lower case, remove numerics, stopwords, etc."
   ]
  },
  {
   "cell_type": "code",
   "execution_count": 9,
   "metadata": {
    "executionInfo": {
     "elapsed": 462,
     "status": "ok",
     "timestamp": 1635769884848,
     "user": {
      "displayName": "sandeep panchal",
      "photoUrl": "https://lh3.googleusercontent.com/a-/AOh14Gh7IOpMB5glav7I6AkOWH0-Wj6J4HZd3Y9iGvAkJA=s64",
      "userId": "16028125481769875260"
     },
     "user_tz": -330
    },
    "id": "Hu6B75p9LDxQ"
   },
   "outputs": [],
   "source": [
    "def data_preparation(dfr, text_col):\n",
    "    \n",
    "    # sentence tokenizer\n",
    "    sent_tokens = []\n",
    "    for s in dfr[text_col]:\n",
    "        sents = nltk.sent_tokenize(s)\n",
    "        sent_tokens.append(sents)\n",
    "\n",
    "    # flatten the list of list to get single list\n",
    "    sent_tokens = [y for x in sent_tokens for y in x]\n",
    "\n",
    "    # create a dictionary with sentences as key and integers as values\n",
    "    # this dictionary will be used in later section to get the top n sentences as per document order\n",
    "    sent_as_key = dict(zip(sent_tokens, np.arange(1, len(sent_tokens)+1)))\n",
    "\n",
    "    return sent_tokens, sent_as_key"
   ]
  },
  {
   "cell_type": "markdown",
   "metadata": {
    "id": "D0owvQ3gNtsZ"
   },
   "source": [
    "## Vectorize the sentences using universal sentence encoder\n",
    "        - Vectorize each sentences and store in a list"
   ]
  },
  {
   "cell_type": "code",
   "execution_count": 10,
   "metadata": {
    "executionInfo": {
     "elapsed": 460,
     "status": "ok",
     "timestamp": 1635770544207,
     "user": {
      "displayName": "sandeep panchal",
      "photoUrl": "https://lh3.googleusercontent.com/a-/AOh14Gh7IOpMB5glav7I6AkOWH0-Wj6J4HZd3Y9iGvAkJA=s64",
      "userId": "16028125481769875260"
     },
     "user_tz": -330
    },
    "id": "4_Uxk1ouNleB"
   },
   "outputs": [],
   "source": [
    "def embed(sent_tokens):\n",
    "\n",
    "    # list to store all sentence vectors\n",
    "    sent_vectors = []\n",
    "    for s in sent_tokens:\n",
    "        sent_vectors.append(model([s]))\n",
    "\n",
    "    return sent_vectors"
   ]
  },
  {
   "cell_type": "markdown",
   "metadata": {
    "id": "mBcRo5rOSDUp"
   },
   "source": [
    "## Get sentence similarity between sentences with cosine similarity\n",
    "        - Create a matrix of NxN where N is the number of sentences\n",
    "        - Get the cosine similarity between each sentences.\n",
    "        - Similarity between same sentence will be 0 only."
   ]
  },
  {
   "cell_type": "code",
   "execution_count": 11,
   "metadata": {
    "executionInfo": {
     "elapsed": 416,
     "status": "ok",
     "timestamp": 1635767118392,
     "user": {
      "displayName": "sandeep panchal",
      "photoUrl": "https://lh3.googleusercontent.com/a-/AOh14Gh7IOpMB5glav7I6AkOWH0-Wj6J4HZd3Y9iGvAkJA=s64",
      "userId": "16028125481769875260"
     },
     "user_tz": -330
    },
    "id": "EAQkweKVRZil"
   },
   "outputs": [],
   "source": [
    "def cosine_similarity_matrix(sent_tokens, sent_vectors):\n",
    "\n",
    "    cosine_matrix = np.zeros([len(sent_tokens), len(sent_tokens)])\n",
    "\n",
    "    for i in range(len(sent_tokens)):\n",
    "        for j in range(len(sent_tokens)):\n",
    "            if i != j:\n",
    "                cosine_matrix[i][j] = cosine_similarity(sent_vectors[i], sent_vectors[j])[0][0]\n",
    "\n",
    "    return cosine_matrix"
   ]
  },
  {
   "cell_type": "markdown",
   "metadata": {
    "id": "EtPKkS2EUjYR"
   },
   "source": [
    "## Applying page rank algorithm\n",
    "        - Page rank is generally used by google to rank web pages.\n",
    "        - This algorithm can even be extended for text rank\n",
    "        - That is giving ranks to each sentences and based on the rank, we can get the top N sentences that summarizes the document/documents."
   ]
  },
  {
   "cell_type": "code",
   "execution_count": 12,
   "metadata": {
    "executionInfo": {
     "elapsed": 666,
     "status": "ok",
     "timestamp": 1635772831680,
     "user": {
      "displayName": "sandeep panchal",
      "photoUrl": "https://lh3.googleusercontent.com/a-/AOh14Gh7IOpMB5glav7I6AkOWH0-Wj6J4HZd3Y9iGvAkJA=s64",
      "userId": "16028125481769875260"
     },
     "user_tz": -330
    },
    "id": "owGoaZM1dVK5"
   },
   "outputs": [],
   "source": [
    "def text_rank(cosine_matrix, sent_tokens, sent_as_key, top_n, top_n_percent):\n",
    "\n",
    "    # get the similarity matrix graph\n",
    "    nx_graph = nx.from_numpy_array(cosine_matrix)\n",
    "\n",
    "    # gets the scores\n",
    "    scores = nx.pagerank(nx_graph)\n",
    "\n",
    "    # sort in descending order which has list of tuples [(score_1, sent_1), ...]\n",
    "    sorted_score_sent = sorted((scores[i], sent) for i, sent in enumerate(sent_tokens))\n",
    "\n",
    "    # sorted extracted top N sentences are random\n",
    "    # we will again sort extracted top N sentences such that it follows the document sentence sequence\n",
    "    sent_order_per_doc = {}\n",
    "    for i in range(top_n):\n",
    "        sent_order_per_doc[sent_as_key[sorted_score_sent[i][1]]] = sorted_score_sent[i][1]\n",
    "\n",
    "    print('Top {} ({}%) extracted sentences are:\\n'.format(top_n, top_n_percent))\n",
    "    for k in sorted(sent_order_per_doc.keys()):\n",
    "        print(sent_order_per_doc[k])"
   ]
  },
  {
   "cell_type": "markdown",
   "metadata": {
    "id": "mm3i4Q3sgVQ0"
   },
   "source": [
    "## Function to call all functions"
   ]
  },
  {
   "cell_type": "code",
   "execution_count": 16,
   "metadata": {
    "executionInfo": {
     "elapsed": 618,
     "status": "ok",
     "timestamp": 1635772936800,
     "user": {
      "displayName": "sandeep panchal",
      "photoUrl": "https://lh3.googleusercontent.com/a-/AOh14Gh7IOpMB5glav7I6AkOWH0-Wj6J4HZd3Y9iGvAkJA=s64",
      "userId": "16028125481769875260"
     },
     "user_tz": -330
    },
    "id": "xBJ3_OXYgSJe"
   },
   "outputs": [],
   "source": [
    "def call_all_func(dfr, text_col, top_n_percent=30):\n",
    "\n",
    "    # calling data_preparation\n",
    "    sent_tokens, sent_as_key = data_preparation(dfr, text_col)\n",
    "\n",
    "    # calling embed\n",
    "    sent_vectors = embed(sent_tokens)\n",
    "\n",
    "    # calling cosine_similarity_matrix\n",
    "    cosine_matrix = cosine_similarity_matrix(sent_tokens, sent_vectors)\n",
    "\n",
    "    top_n = int(len(sent_tokens)*(top_n_percent/100))\n",
    "\n",
    "    # calling text_rank\n",
    "    text_rank(cosine_matrix, sent_tokens, sent_as_key, top_n, top_n_percent)"
   ]
  },
  {
   "cell_type": "code",
   "execution_count": 17,
   "metadata": {
    "colab": {
     "base_uri": "https://localhost:8080/",
     "height": 80
    },
    "executionInfo": {
     "elapsed": 956,
     "status": "ok",
     "timestamp": 1635773421153,
     "user": {
      "displayName": "sandeep panchal",
      "photoUrl": "https://lh3.googleusercontent.com/a-/AOh14Gh7IOpMB5glav7I6AkOWH0-Wj6J4HZd3Y9iGvAkJA=s64",
      "userId": "16028125481769875260"
     },
     "user_tz": -330
    },
    "id": "u5PgXWDEiyaz",
    "outputId": "a9a498e5-b732-4281-f66d-3980ceddbd22"
   },
   "outputs": [
    {
     "data": {
      "text/html": [
       "<div>\n",
       "<style scoped>\n",
       "    .dataframe tbody tr th:only-of-type {\n",
       "        vertical-align: middle;\n",
       "    }\n",
       "\n",
       "    .dataframe tbody tr th {\n",
       "        vertical-align: top;\n",
       "    }\n",
       "\n",
       "    .dataframe thead th {\n",
       "        text-align: right;\n",
       "    }\n",
       "</style>\n",
       "<table border=\"1\" class=\"dataframe\">\n",
       "  <thead>\n",
       "    <tr style=\"text-align: right;\">\n",
       "      <th></th>\n",
       "      <th>article_text</th>\n",
       "    </tr>\n",
       "  </thead>\n",
       "  <tbody>\n",
       "    <tr>\n",
       "      <th>0</th>\n",
       "      <td>Swami Vivekananda a name that does not require...</td>\n",
       "    </tr>\n",
       "  </tbody>\n",
       "</table>\n",
       "</div>"
      ],
      "text/plain": [
       "                                        article_text\n",
       "0  Swami Vivekananda a name that does not require..."
      ]
     },
     "execution_count": 17,
     "metadata": {},
     "output_type": "execute_result"
    }
   ],
   "source": [
    "text = [\"\"\"Swami Vivekananda a name that does not require any sort of introduction. He is an influential personality who is credited with enlightening the western world about Hinduism. He represented Hinduism in the Parliament of Religions in 1893 in Chicago and due to this an unknown monk of India suddenly leaped into fame. National Youth Day is observed on 12 January to commemorate the birth anniversary of Swami Vivekananda.\n",
    "\n",
    "Swami Vivekananda founded Ramakrishna Mission on 1 May 1897 for one's own salvation and for the welfare of the world. Do you know his lectures, writings, letters, and poems are published as The Complete Works of Swami Vivekananda? He always focuses on teaching universal principles rather than personalities. He had tremendous intellect. His unique contributions always enlighten and awaken us. He was a spiritual leader and social reformer. \n",
    "\n",
    "\"All the powers in the universe are already our. It is we who have put our hands before our eyes and cry that it is dark.\"- Swami Vivekananda\n",
    "\n",
    "If anyone wants to study the origin of the Vedanta movement in America then study Swami Vivekananda travels across the US. He was a great thinker, great orator, and passionate patriot. It is not wrong to say that he was more than just a spiritual mind.\n",
    "\n",
    "Born: 12 January, 1863\n",
    "\n",
    "Place of Birth: Kolkata, India\n",
    "\n",
    "Childhood Name: Narendranath Dutta\n",
    "\n",
    "Father: Vishwanath Dutta\n",
    "\n",
    "Mother: Bhuvaneshwari Devi\n",
    "\n",
    "Education: Calcutta Metropolitan School; Presidency College, Calcutta\n",
    "\n",
    "Religion: Hinduism\n",
    "\n",
    "Guru: Ramakrishna\n",
    "\n",
    "Founder of: Ramakrishna Mission (1897), Ramakrishna Math, Vedanta Society of New York\n",
    "\n",
    "Philosophy: Advaita Vedanta\n",
    "\n",
    "Literary works: Raja Yoga (1896), Karma Yoga (1896), Bhakti Yoga (1896), Jnana Yoga, My Master (1901), Lectures from Colombo to Almora (1897)\n",
    "\n",
    "Death: 4 July, 1902\n",
    "\n",
    "Place of Death: Belur Math, Belur, Bengal\n",
    "\n",
    "Memorial: Belur Math. Belur, West Bengal\n",
    "\n",
    "Swami Vivekananda was born on 12 January, 1863, Kolkata (earlier Calcutta). He was a spiritual leader and social reformer. His lectures, writings, letters, poems, ideas motivated not only the youth of India but also the whole world. He is the founder of Ramakrishna Mission and Belur Math in Calcutta, which are still working towards helping the needy. He was a man of wisdom and a very simple human being. \n",
    "\n",
    "\"Arise, awake and stop not until the goal is achieved\" - Swami Vivekananda\n",
    "\n",
    "Swami Vivekananda: Life History and Education\n",
    "\n",
    "Jagranjosh\n",
    "\n",
    "Source: www. medium.com\n",
    "\n",
    "Vivekananda childhood name was Narendranath Dutta, belonged to an affluent Bengali family in Calcutta. He was one of the eight children of Vishwanath Dutta and Bhuvneshwari Devi. On the occasion of Makar Sankranti, he was born on 12 January, 1863. His father was an attorney and an influential personality in society. Vivekananda's mother was a woman who has faith in God and has a great impact on his son.\n",
    "\n",
    "At the age of eight in 1871, Vivekananda was enrolled at Ishwar Chandra Vidyasagar's Institution and later at the Presidency College in Calcutta. He was exposed to Western philosophy, Christianity, and science. He had an interest in music both instrumental as well as vocal. He was active in sports, gymnastics, wrestling, and bodybuilding. He was also fond of reading and till the time he had completed his graduation from the college he had acquired a vast knowledge of various subjects. Do you know on the one hand he read Hindu scriptures like Bhagavad Gita and the Upanishads and on the other hand western philosophies and spirituality by David Hume, Herbert Spencer etc?\n",
    "\n",
    "“Be an atheist if you want, but do not believe in anything unquestioningly.”- Swami Vivekananda\n",
    "\n",
    "Why is Swami Vivekananda's birthday celebrated as National Youth Day?\n",
    "\n",
    "Spiritual Crisis and met with Ramakrishna Paramhansa\n",
    "\n",
    "Jagranjosh\n",
    "\n",
    "Source: www. swamishivapadananda.typepad.com\n",
    "\n",
    "He had grown up in a religious family but studied several religious books and knowledge led him to question the existence of God and sometimes he believed in Agnosticism. But he could not completely deny the fact about the supremacy of God. In 1880, he joined Keshab Chandra Sen's Nava Vidhan and also became a member of Sadharan Brahmo Samaj led by Keshab Chandra Sen and Debendranath Tagore.\n",
    "\n",
    "Brahmo Samaj recognized one God, unlike idol-worship. Several questions were running in the mind of Vivekananda and during his spiritual crisis, he first heard about Shri Ramakrishna from William Hastie, the Principal of the Scottish Church College. He finally met Shri Ramakrishna Paramhansa at Dakshineshwar Kali Temple and Vivekananda asked him a question, \"Have you seen God?\" which he had asked so many spiritual leaders but was not satisfied. But when he asked Ramakrishna, he gave such a simple answer that \"Yes, I have. I see God as clearly as I see you, only in a much deeper sense\". After this Vivekananda started visiting Dakshineshwar and got several answers to the questions that were in his mind.\n",
    "\n",
    "When Vivekananda's father died, the whole family faced a financial crisis. He went to Ramakrishna and asked him to pray for his family but Ramakrishna refused and told Vivekananda to pray himself in front of Goddess Kali. He could not ask for wealth, money but instead of it, he asked for conscience and reclusion. That day he was marked with spiritual awakening and a way of ascetic life was started. This was the turning point in his life and accepted Ramakrishna as his Guru.\n",
    "\n",
    "“Take risks in your life. If you win, you can lead, if you lose, you can guide.” Swami Vivekananda\n",
    "\n",
    "In 1885, Ramakrishna developed throat cancer and was transferred to Calcutta and then later to a garden house in Cossipore. Vivekananda and other disciples of Ramakrishna took care of him. On 16 August, 1886, Shri Ramakrishna gave up his mortal body. Narendra was taught that the service to men was the most effective worship of God. After the demise of Ramakrishna, fifteen of his disciples including Narendranath began to live together at Baranagar in North Calcutta, which was named Ramakrishna Math. In 1887, all the disciples took vows of monkhood and Narendranath emerged as Vivekananda that is \"the bliss of discerning wisdom.\" All of them performed yoga and meditation. Further, Vivekananda left the math and decided to tour the whole of India on foot which came to be known as 'Parivrajak'. He saw several social, cultural, and religious aspects of the people and also saw what common people faced in their daily life, their sufferings, etc.\n",
    "\n",
    "Swami Vivekananda attended the World Parliament of Religions\n",
    "\n",
    "Jagranjosh\n",
    "Source: www. indiatvnews.com\n",
    "\n",
    "When he came to know about the World Parliament that was organised in Chicago, America. He was keen to attend the meeting, to represent India and his Guru's philosophies. After various troubles, he attended the Religious meeting. On 11 September, 1893, he came upon the stage and stunned everyone while saying \"My brothers and sisters of America\". For this, he received a standing ovation from the audience. He described the principles of Vedanta, their spiritual significance, etc.\n",
    "He stayed around two and a half years in America itself and founded the Vedanta Society of New York. He also travelled to the United Kingdom to preach the philosophies, spiritualism, and principles of Vedanta.\n",
    "\n",
    "“Learn everything that is good from others but bring it in, and in your own way absorb it; do not become others.” Swami Vivekananda\n",
    "\n",
    "Ramakrishna Mission and Vivekananda: Contribution to Social Reform\n",
    "\n",
    "He founded Ramakrishna Mission\n",
    "\n",
    "Around 1897, he returned to India and reached Calcutta where he founded Ramakrishna Mission on 1 May, 1897 at Belur Math. The goals of the mission were based on Karma Yoga and its main objective was to serve the poor and suffering or disturbed population of the country. Several social services are also performed under this mission like establishing schools, colleges, and hospitals. Teachings of Vedanta were also provided through conferences, seminars, and workshops, rehabilitation work across the country.\n",
    "\n",
    "Let us tell you that Vivekananda's teachings were mostly based on Ramakrishna's spiritual teachings of Divine manifestations and his personal internalisation of the Advaita Vedanta Philosophy. According to him, the ultimate goal of life is to achieve the freedom of the soul and that encompasses the entirety of one's religion.\n",
    "\n",
    "Death\n",
    "\n",
    "He predicted that he will not live till the age of 40. Therefore, on 4 July, 1902, he died while doing meditation. He is said to have attained 'Mahasamadhi' and was cremated on the Banks of the river Ganga.\n",
    "\n",
    "“A man is not poor without a rupee but a man is really poor without a dream and ambition.” Swami Vivekananda\n",
    "\n",
    "Key Works of Swami Vivekananda\n",
    "\n",
    "- The Complete Works of Swami Vivekananda\n",
    "\n",
    "- Swami Vivekananda’s Speeches at the Parliament of Religions, Chicago, 1893\n",
    "\n",
    "- Letters of Swami Vivekananda\n",
    "\n",
    "- Jnana Yoga: The Yoga of Knowledge\n",
    "\n",
    "- Yoga: The Yoga of Love and Devotion\n",
    "\n",
    "- Yoga: The Yoga of Action\n",
    "\n",
    "- Raja Yoga: The Yoga of Meditation\n",
    "\n",
    "Key Works on Swami Vivekananda\n",
    "\n",
    "- Vivekananda A Biography, by Swami Nikhilananda\n",
    "\n",
    "- Swami Vivekananda by Eastern and Western Disciples\n",
    "\n",
    "- The Master As I Saw Him, by Sister Nivedita\n",
    "\n",
    "- Reminiscences of Swami Vivekananda\n",
    "\n",
    "- The Life of Vivekananda, by Romain Rolland\n",
    "\n",
    "No doubt Swami Vivekananda's teachings not only motivated the youth but also the whole world. He laid the true foundations of India's unity as a nation. He taught us how to live together with so many diversities. He was successful in constructing a virtual bridge between the culture of the East and the West. He played a key role in isolating India's culture from the rest of the World.\n",
    "\n",
    "“Take up one idea, make that one idea your life, think of it, dream of it, let the brain, muscles, nerves, every part of your body be full of that idea, and just leave every other idea alone. This is the way to success.” Swami Vivekananda\"\"\"]\n",
    "\n",
    "df = pd.DataFrame({'article_text':text})\n",
    "df"
   ]
  },
  {
   "cell_type": "code",
   "execution_count": 18,
   "metadata": {
    "colab": {
     "base_uri": "https://localhost:8080/"
    },
    "executionInfo": {
     "elapsed": 1822,
     "status": "ok",
     "timestamp": 1635773422971,
     "user": {
      "displayName": "sandeep panchal",
      "photoUrl": "https://lh3.googleusercontent.com/a-/AOh14Gh7IOpMB5glav7I6AkOWH0-Wj6J4HZd3Y9iGvAkJA=s64",
      "userId": "16028125481769875260"
     },
     "user_tz": -330
    },
    "id": "6XTdFNVbsCwe",
    "outputId": "af39b259-5009-4dec-a204-3fff062d845f"
   },
   "outputs": [
    {
     "name": "stdout",
     "output_type": "stream",
     "text": [
      "Top 25 (30%) extracted sentences are:\n",
      "\n",
      "He always focuses on teaching universal principles rather than personalities.\n",
      "\"All the powers in the universe are already our.\n",
      "It is we who have put our hands before our eyes and cry that it is dark.\n",
      "medium.com\n",
      "\n",
      "Vivekananda childhood name was Narendranath Dutta, belonged to an affluent Bengali family in Calcutta.\n",
      "On the occasion of Makar Sankranti, he was born on 12 January, 1863.\n",
      "Vivekananda's mother was a woman who has faith in God and has a great impact on his son.\n",
      "He had an interest in music both instrumental as well as vocal.\n",
      "He was active in sports, gymnastics, wrestling, and bodybuilding.\n",
      "But he could not completely deny the fact about the supremacy of God.\n",
      "Brahmo Samaj recognized one God, unlike idol-worship.\n",
      "But when he asked Ramakrishna, he gave such a simple answer that \"Yes, I have.\n",
      "I see God as clearly as I see you, only in a much deeper sense\".\n",
      "When Vivekananda's father died, the whole family faced a financial crisis.\n",
      "He could not ask for wealth, money but instead of it, he asked for conscience and reclusion.\n",
      "“Take risks in your life.\n",
      "indiatvnews.com\n",
      "\n",
      "When he came to know about the World Parliament that was organised in Chicago, America.\n",
      "On 11 September, 1893, he came upon the stage and stunned everyone while saying \"My brothers and sisters of America\".\n",
      "For this, he received a standing ovation from the audience.\n",
      "The goals of the mission were based on Karma Yoga and its main objective was to serve the poor and suffering or disturbed population of the country.\n",
      "Several social services are also performed under this mission like establishing schools, colleges, and hospitals.\n",
      "Teachings of Vedanta were also provided through conferences, seminars, and workshops, rehabilitation work across the country.\n",
      "According to him, the ultimate goal of life is to achieve the freedom of the soul and that encompasses the entirety of one's religion.\n",
      "Death\n",
      "\n",
      "He predicted that he will not live till the age of 40.\n",
      "He was successful in constructing a virtual bridge between the culture of the East and the West.\n",
      "“Take up one idea, make that one idea your life, think of it, dream of it, let the brain, muscles, nerves, every part of your body be full of that idea, and just leave every other idea alone.\n"
     ]
    }
   ],
   "source": [
    "call_all_func(df, 'article_text')"
   ]
  },
  {
   "cell_type": "code",
   "execution_count": null,
   "metadata": {},
   "outputs": [],
   "source": []
  }
 ],
 "metadata": {
  "colab": {
   "authorship_tag": "ABX9TyMa1hP/FTaEJEagppymxNSJ",
   "collapsed_sections": [],
   "name": "use_extractive_text_summarization.ipynb",
   "provenance": []
  },
  "kernelspec": {
   "display_name": "Python 3",
   "language": "python",
   "name": "python3"
  },
  "language_info": {
   "codemirror_mode": {
    "name": "ipython",
    "version": 3
   },
   "file_extension": ".py",
   "mimetype": "text/x-python",
   "name": "python",
   "nbconvert_exporter": "python",
   "pygments_lexer": "ipython3",
   "version": "3.8.5"
  }
 },
 "nbformat": 4,
 "nbformat_minor": 1
}
